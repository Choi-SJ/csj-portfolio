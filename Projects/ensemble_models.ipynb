{
  "cells": [
    {
      "cell_type": "code",
      "source": [
        "from google.colab import drive\n",
        "drive.mount('/content/drive')"
      ],
      "metadata": {
        "id": "6Tehd63A_QYk",
        "outputId": "38705720-a13e-4921-91f0-fdb54971f88f",
        "colab": {
          "base_uri": "https://localhost:8080/"
        }
      },
      "execution_count": null,
      "outputs": [
        {
          "output_type": "stream",
          "name": "stdout",
          "text": [
            "Drive already mounted at /content/drive; to attempt to forcibly remount, call drive.mount(\"/content/drive\", force_remount=True).\n"
          ]
        }
      ]
    },
    {
      "cell_type": "code",
      "source": [
        "import pandas as pd\n",
        "import numpy as np\n",
        "import matplotlib.pyplot as plt\n",
        "import seaborn as sns\n",
        "import time\n",
        "\n",
        "from sklearn.model_selection import StratifiedKFold, cross_val_score\n",
        "from sklearn.ensemble import BaggingClassifier, RandomForestClassifier, AdaBoostClassifier\n",
        "from sklearn.preprocessing import StandardScaler"
      ],
      "metadata": {
        "id": "jOw_Ctc2AS4M"
      },
      "execution_count": null,
      "outputs": []
    },
    {
      "cell_type": "code",
      "source": [
        "# 1. 데이터 로드 및 전처리\n",
        "def load_and_preprocess(filepath):\n",
        "    df = pd.read_csv('/content/drive/MyDrive/customer_churn.csv')\n",
        "    # 필요한 컬럼만 사용\n",
        "    features = ['age', 'monthly_usage', 'contract_length', 'support_calls', 'payment_delay']\n",
        "    X = df[features]\n",
        "    y = df['churn']\n",
        "    # 스케일링\n",
        "    scaler = StandardScaler()\n",
        "    X_scaled = scaler.fit_transform(X)\n",
        "    return X_scaled, y"
      ],
      "metadata": {
        "id": "SiO55MD-AUxu"
      },
      "execution_count": null,
      "outputs": []
    },
    {
      "cell_type": "code",
      "source": [
        "# 2. 모델 정의\n",
        "def get_models():\n",
        "    models = {\n",
        "        'Bagging': BaggingClassifier(random_state=42),\n",
        "        'RandomForest': RandomForestClassifier(random_state=42),\n",
        "        'AdaBoost': AdaBoostClassifier(random_state=42)\n",
        "    }\n",
        "    return models"
      ],
      "metadata": {
        "id": "qfbJxMXqBMUP"
      },
      "execution_count": null,
      "outputs": []
    },
    {
      "cell_type": "code",
      "source": [
        "# 3. 교차검증 평가 함수\n",
        "def evaluate_models(models, X, y, cv_splits=5):\n",
        "    results = []\n",
        "    cv = StratifiedKFold(n_splits=cv_splits, shuffle=True, random_state=42)\n",
        "    for name, model in models.items():\n",
        "        start = time.time()\n",
        "        acc_scores = cross_val_score(model, X, y, cv=cv, scoring='accuracy')\n",
        "        auc_scores = cross_val_score(model, X, y, cv=cv, scoring='roc_auc')\n",
        "        elapsed = time.time() - start\n",
        "        results.append({\n",
        "            'Model': name,\n",
        "            'CV Accuracy': np.mean(acc_scores),\n",
        "            'CV AUC': np.mean(auc_scores),\n",
        "            'Time (s)': elapsed\n",
        "        })\n",
        "    return pd.DataFrame(results)"
      ],
      "metadata": {
        "id": "jMfS747NCAwz"
      },
      "execution_count": null,
      "outputs": []
    },
    {
      "cell_type": "code",
      "source": [
        "# 4. 성능 비교 시각화\n",
        "def plot_results(results_df):\n",
        "    fig, axes = plt.subplots(1, 2, figsize=(12, 5))\n",
        "    sns.barplot(x='Model', y='CV Accuracy', data=results_df, ax=axes[0])\n",
        "    axes[0].set_title('CV Accuracy by Model')\n",
        "    sns.barplot(x='Model', y='CV AUC', data=results_df, ax=axes[1])\n",
        "    axes[1].set_title('CV AUC by Model')\n",
        "    plt.tight_layout()\n",
        "    plt.show()"
      ],
      "metadata": {
        "id": "GZHriiCiDV2v"
      },
      "execution_count": null,
      "outputs": []
    },
    {
      "cell_type": "code",
      "source": [
        "# 5. 분석 및 결론 출력\n",
        "def print_analysis(results_df):\n",
        "    print(\"\\n[모델별 분석 및 적합한 모델 선정]\")\n",
        "    best_row = results_df.loc[results_df['CV AUC'].idxmax()]\n",
        "    for idx, row in results_df.iterrows():\n",
        "        print(f\"\\n- {row['Model']}:\")\n",
        "        print(f\"  * CV Accuracy: {row['CV Accuracy']:.4f}\")\n",
        "        print(f\"  * CV AUC: {row['CV AUC']:.4f}\")\n",
        "        print(f\"  * Time (s): {row['Time (s)']:.2f}\")\n",
        "        if row['Model'] == best_row['Model']:\n",
        "            print(\"  => 가장 높은 AUC를 기록하여 최적의 모델로 선정됨.\")\n",
        "    print(\"\\n[결론]\")\n",
        "    print(f\"본 데이터셋에서는 '{best_row['Model']}' 모델이 가장 우수한 성능(AUC 기준)을 보였습니다. \"\n",
        "          \"따라서 해당 모델을 추천합니다. 다만, 실제 적용 시에는 데이터 특성, 해석 용이성, 시간 등도 함께 고려해야 합니다.\")\n"
      ],
      "metadata": {
        "id": "FdXoA7fHDcd5"
      },
      "execution_count": null,
      "outputs": []
    },
    {
      "cell_type": "code",
      "source": [
        "# 6. 메인 실행\n",
        "def main():\n",
        "    filepath = 'customer_churn.csv'\n",
        "    X, y = load_and_preprocess(filepath)\n",
        "    models = get_models()\n",
        "    results_df = evaluate_models(models, X, y)\n",
        "    print(\"[성능 비교표]\")\n",
        "    print(results_df)\n",
        "    plot_results(results_df)\n",
        "    print_analysis(results_df)\n",
        "\n",
        "if __name__ == \"__main__\":\n",
        "    main()"
      ],
      "metadata": {
        "id": "UmOxR8X8De2h",
        "outputId": "6b01ebd4-87a5-4712-f0d7-d4cec40c72a5",
        "colab": {
          "base_uri": "https://localhost:8080/",
          "height": 760
        }
      },
      "execution_count": null,
      "outputs": [
        {
          "output_type": "stream",
          "name": "stdout",
          "text": [
            "[성능 비교표]\n",
            "          Model  CV Accuracy    CV AUC  Time (s)\n",
            "0       Bagging        0.810  0.470313  0.565518\n",
            "1  RandomForest        0.818  0.491443  5.756109\n",
            "2      AdaBoost        0.840  0.506994  1.150887\n"
          ]
        },
        {
          "output_type": "display_data",
          "data": {
            "text/plain": [
              "<Figure size 1200x500 with 2 Axes>"
            ],
            "image/png": "[encoded data removed]"
          },
          "metadata": {}
        },
        {
          "output_type": "stream",
          "name": "stdout",
          "text": [
            "\n",
            "[모델별 분석 및 적합한 모델 선정]\n",
            "\n",
            "- Bagging:\n",
            "  * CV Accuracy: 0.8100\n",
            "  * CV AUC: 0.4703\n",
            "  * Time (s): 0.57\n",
            "\n",
            "- RandomForest:\n",
            "  * CV Accuracy: 0.8180\n",
            "  * CV AUC: 0.4914\n",
            "  * Time (s): 5.76\n",
            "\n",
            "- AdaBoost:\n",
            "  * CV Accuracy: 0.8400\n",
            "  * CV AUC: 0.5070\n",
            "  * Time (s): 1.15\n",
            "  => 가장 높은 AUC를 기록하여 최적의 모델로 선정됨.\n",
            "\n",
            "[결론]\n",
            "본 데이터셋에서는 'AdaBoost' 모델이 가장 우수한 성능(AUC 기준)을 보였습니다. 따라서 해당 모델을 추천합니다. 다만, 실제 적용 시에는 데이터 특성, 해석 용이성, 시간 등도 함께 고려해야 합니다.\n"
          ]
        }
      ]
    }
  ],
  "metadata": {
    "colab": {
      "provenance": []
    },
    "kernelspec": {
      "display_name": "Python 3",
      "name": "python3"
    }
  },
  "nbformat": 4,
  "nbformat_minor": 0
}